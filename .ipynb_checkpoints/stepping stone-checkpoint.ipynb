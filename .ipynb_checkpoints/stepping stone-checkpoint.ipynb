{
 "cells": [
  {
   "cell_type": "code",
   "execution_count": null,
   "id": "ff3ef50a",
   "metadata": {},
   "outputs": [],
   "source": [
    "import numpy as np\n",
    "from matplotlib import pyplot as plt\n",
    "import seaborn as sns\n",
    "from array2gif import write_gif\n",
    "\n"
   ]
  },
  {
   "cell_type": "code",
   "execution_count": null,
   "id": "b88f153e",
   "metadata": {
    "scrolled": true
   },
   "outputs": [],
   "source": [
    "i=6\n",
    "j=10\n",
    "#crate matrix\n",
    "def random_color (x,y):\n",
    "    graph=np.matrix(np.random.choice([0,1],size=(x,y)))\n",
    "    np.savetxt('matrix.json', graph, fmt='%1d')\n",
    "    return()\n",
    "n=random_color(i,j)\n",
    "#select random matrix\n",
    "def select_array_row ():\n",
    "    row=np.random.randint(0,i)\n",
    "    return row\n",
    "\n",
    "def select_array_column ():\n",
    "    column=np.random.randint(0,j)\n",
    "    return column\n",
    "\n",
    "def neighbor (row , column):\n",
    "    ch_ar=f[row,column]\n",
    "    if rd_row>=i-1:\n",
    "        rd_row=0\n",
    "    rd_column=column-(np.random.choice([-1,0,1]))\n",
    "    if rd_column>=i-1:\n",
    "        rd_column=0\n",
    "    f[row,column]=(f[rd_row,rd_column])\n",
    "    return (f)\n"
   ]
  },
  {
   "cell_type": "code",
   "execution_count": null,
   "id": "8010b9b0",
   "metadata": {},
   "outputs": [],
   "source": [
    "f=np.loadtxt('matrix.json')\n",
    "\n",
    "sum_mx=f.sum()\n",
    "n=0\n",
    "print(f,sum_mx)\n",
    "fig, ax = plt.subplots()\n",
    "ax.set_xlim(0, i)\n",
    "ax.set_ylim(0, i)\n",
    "while sum_mx!=(i**j) and sum_mx!=0 :\n",
    "    a=select_array_row()\n",
    "    b=select_array_column()\n",
    "    mx=neighbor(a,b)\n",
    "    sum_mx=mx.sum()\n",
    "    sns.heatmap(f,cmap='binary',annot=True,linewidths=0.5,cbar=False,yticklabels=False,xticklabels=False)\n",
    "    print(sum_mx)\n",
    "    name=\"image/\"+str(n)+\".jpeg\"\n",
    "    plt.savefig(name)\n",
    "    plt.show()\n",
    "    n=n+1\n"
   ]
  },
  {
   "cell_type": "code",
   "execution_count": null,
   "id": "073c1ae5",
   "metadata": {},
   "outputs": [],
   "source": [
    "n"
   ]
  },
  {
   "cell_type": "code",
   "execution_count": null,
   "id": "4f76992a",
   "metadata": {},
   "outputs": [],
   "source": []
  }
 ],
 "metadata": {
  "kernelspec": {
   "display_name": "Python 3 (ipykernel)",
   "language": "python",
   "name": "python3"
  },
  "language_info": {
   "codemirror_mode": {
    "name": "ipython",
    "version": 3
   },
   "file_extension": ".py",
   "mimetype": "text/x-python",
   "name": "python",
   "nbconvert_exporter": "python",
   "pygments_lexer": "ipython3",
   "version": "3.9.7"
  }
 },
 "nbformat": 4,
 "nbformat_minor": 5
}
