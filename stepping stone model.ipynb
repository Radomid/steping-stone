{
 "cells": [
  {
   "cell_type": "code",
   "execution_count": null,
   "id": "ff3ef50a",
   "metadata": {},
   "outputs": [],
   "source": [
    "import numpy as np\n",
    "from matplotlib import pyplot as plt\n",
    "import seaborn as sns\n",
    "import random as rm\n"
   ]
  },
  {
   "cell_type": "code",
   "execution_count": null,
   "id": "6cffd219",
   "metadata": {},
   "outputs": [],
   "source": [
    "#row\n",
    "i=10\n",
    "#column\n",
    "j=10\n",
    "\n",
    "#crate matrix\n",
    "def random_color (x,y):\n",
    "    graph=np.matrix(np.random.choice([0,1],size=(x,y)))\n",
    "    np.savetxt('matrix.json', graph, fmt='%1d')\n",
    "    return()\n",
    "n=random_color(i,j)"
   ]
  },
  {
   "cell_type": "code",
   "execution_count": null,
   "id": "b88f153e",
   "metadata": {
    "scrolled": true
   },
   "outputs": [],
   "source": [
    "\n",
    "# power of the possible advantage of the number (between 0 (maximum power) and 1 (no power) for 1&0)\n",
    "power_1=1\n",
    "power_0=1\n",
    "\n",
    "\n",
    "#select random matrix\n",
    "def select_array_row ():\n",
    "    row=np.random.randint(0,i)\n",
    "    return row\n",
    "\n",
    "def select_array_column ():\n",
    "    column=np.random.randint(0,j)\n",
    "    return column\n",
    "\n",
    "f=np.loadtxt('matrix.json')\n",
    "\n",
    "def neighbor (row , column):\n",
    "    ch_ar=f[row,column]\n",
    "    rd_column=column-(np.random.choice([-1,0,1]))\n",
    "    if rd_column >= j-1:\n",
    "        rd_column=0\n",
    "    rd_row=row-(np.random.choice([-1,0,1]))\n",
    "    if rd_row>= i-1:\n",
    "        rd_row=0\n",
    "#Probability advantage with random for 1\n",
    "    if (f[rd_row,rd_column]==1) and (f[row,column]==0) :\n",
    "        rnd=rm.random()\n",
    "        \n",
    "        if rnd>=power_1:\n",
    "            f[row,column]=0\n",
    "        else:\n",
    "            f[row,column]=1\n",
    "    else:       \n",
    "        f[row,column]=(f[rd_row,rd_column])\n",
    "        \n",
    "#Probability advantage with random for 0\n",
    "    if (f[rd_row,rd_column]==0) and (f[row,column]==1) :\n",
    "        rnd=rm.random()\n",
    "        \n",
    "        if rnd>=power_0 :\n",
    "            f[row,column]=1\n",
    "        else:\n",
    "            f[row,column]=0\n",
    "    else:       \n",
    "        f[row,column]=(f[rd_row,rd_column])\n",
    "\n",
    "    \n",
    "    return (f)"
   ]
  },
  {
   "cell_type": "code",
   "execution_count": null,
   "id": "8010b9b0",
   "metadata": {
    "scrolled": false
   },
   "outputs": [],
   "source": [
    "\n",
    "sum_mx=f.sum()\n",
    "n=0\n",
    "print(f,sum_mx)\n",
    "fig, ax = plt.subplots()\n",
    "ax.set_xlim(0, i)\n",
    "ax.set_ylim(0, i)\n",
    "while sum_mx!=(i*j) and sum_mx!=0 :\n",
    "    a=select_array_row()\n",
    "    b=select_array_column()\n",
    "    mx=neighbor(a,b)\n",
    "    sum_mx=mx.sum()\n",
    "    sns.heatmap(f,cmap='binary',annot=True,linewidths=0.5,cbar=False,yticklabels=False,xticklabels=False)\n",
    "    print(sum_mx)\n",
    "    name=\"image/\"+str(n)+\".jpeg\"\n",
    "    plt.savefig(name,dpi=400)\n",
    "    plt.show()\n",
    "    n=n+1\n"
   ]
  },
  {
   "cell_type": "code",
   "execution_count": null,
   "id": "d64bdd51",
   "metadata": {},
   "outputs": [],
   "source": []
  }
 ],
 "metadata": {
  "kernelspec": {
   "display_name": "Python 3 (ipykernel)",
   "language": "python",
   "name": "python3"
  },
  "language_info": {
   "codemirror_mode": {
    "name": "ipython",
    "version": 3
   },
   "file_extension": ".py",
   "mimetype": "text/x-python",
   "name": "python",
   "nbconvert_exporter": "python",
   "pygments_lexer": "ipython3",
   "version": "3.9.12"
  }
 },
 "nbformat": 4,
 "nbformat_minor": 5
}
